{
 "cells": [
  {
   "cell_type": "code",
   "execution_count": 159,
   "metadata": {},
   "outputs": [],
   "source": [
    "import requests"
   ]
  },
  {
   "cell_type": "code",
   "execution_count": 160,
   "metadata": {},
   "outputs": [],
   "source": [
    "#Use the Requests module to download the page with the list of top-level domains.\n",
    "r = requests.get(\"https://en.m.wikipedia.org/wiki/List_of_Internet_top-level_domains\")"
   ]
  },
  {
   "cell_type": "code",
   "execution_count": 161,
   "metadata": {},
   "outputs": [],
   "source": [
    "from bs4 import BeautifulSoup"
   ]
  },
  {
   "cell_type": "code",
   "execution_count": 162,
   "metadata": {},
   "outputs": [],
   "source": [
    "soup = BeautifulSoup(r.text, 'html.parser')"
   ]
  },
  {
   "cell_type": "code",
   "execution_count": 163,
   "metadata": {},
   "outputs": [
    {
     "name": "stdout",
     "output_type": "stream",
     "text": [
      "<table class=\"wikitable sortable\"><tbody><tr style=\"background:#a0d0ff;\"><th><a href=\"/wiki/Generic_top-level_domain\" title=\"Generic top-level domain\">Name</a>\n",
      "</th>\n",
      "<th>Entity\n",
      "</th>\n",
      "<th>Administrator<sup class=\"reference\" id=\"cite_ref-5\"><a href=\"#cite_note-5\">[5]</a></sup></th>\n",
      "<th>Notes\n",
      "</th>\n",
      "<th><a href=\"/wiki/Internationalized_domain_name\" title=\"Internationalized domain name\">IDN</a>\n",
      "</th>\n",
      "<th><a class=\"mw-redirect\" href=\"/wiki/DNSSEC\" title=\"DNSSEC\">DNSSEC</a>\n",
      "</th>\n",
      "<th><a href=\"/wiki/Second-level_domain\" title=\"Second-level domain\">SLD</a>\n",
      "</th>\n",
      "<th><a href=\"/wiki/IPv6\" title=\"IPv6\">IPv6</a>\n",
      "</th></tr><tr valign=\"top\"><td><a href=\"/wiki/.com\" title=\".com\">.com</a></td>\n",
      "<td>commercial</td>\n",
      "<td><a href=\"/wiki/Verisign\" title=\"Verisign\">Verisign</a></td>\n",
      "<td>This is an open TLD; any person or entity is permitted to register. Though originally intended for use by for-profit business entities, for a number of reasons it became the \"main\" TLD for domain names and is currently used by all types of entities including nonprofits, schools, and private individuals. Domain name registrations may be successfully challenged if the holder cannot prove an outside relation justifying reservation of the name,<sup class=\"noprint Inline-Template Template-Fact\" style=\"white-space:nowrap;\">[<i><a href=\"/wiki/Wikipedia:Citation_needed\" title=\"Wikipedia:Citation needed\"><span title=\"This claim needs references to reliable sources. (September 2016)\">citation needed</span></a></i>]</sup> to prevent \"<a href=\"/wiki/Cybersquatting\" title=\"Cybersquatting\">squatting</a>\". It was originally administered by the <a href=\"/wiki/United_States_Department_of_Defense\" title=\"United States Department of Defense\">United States Department of Defense</a>.</td>\n",
      "<td class=\"table-yes\" style=\"background:#9F9;vertical-align:middle;text-align:center;\">Yes</td>\n",
      "<td class=\"table-yes\" style=\"background:#9F9;vertical-align:middle;text-align:center;\">Yes</td>\n",
      "<td class=\"table-yes\" style=\"background:#9F9;vertical-align:middle;text-align:center;\">Yes</td>\n",
      "<td class=\"table-yes\" style=\"background:#9F9;vertical-align:middle;text-align:center;\">Yes\n",
      "</td></tr><tr valign=\"top\"><td><a href=\"/wiki/.org\" title=\".org\">.org</a></td>\n",
      "<td>organization</td>\n",
      "<td><a href=\"/wiki/Public_Interest_Registry\" title=\"Public Interest Registry\">Public Interest Registry</a></td>\n",
      "<td>This is an open TLD; any person or entity is permitted to register. Originally intended for use by non-profit organizations, and still primarily used by some.</td>\n",
      "<td class=\"table-yes\" style=\"background:#9F9;vertical-align:middle;text-align:center;\">Yes</td>\n",
      "<td class=\"table-yes\" style=\"background:#9F9;vertical-align:middle;text-align:center;\">Yes</td>\n",
      "<td class=\"table-yes\" style=\"background:#9F9;vertical-align:middle;text-align:center;\">Yes</td>\n",
      "<td class=\"table-yes\" style=\"background:#9F9;vertical-align:middle;text-align:center;\">Yes\n",
      "</td></tr><tr valign=\"top\"><td><a href=\"/wiki/.net\" title=\".net\">.net</a></td>\n",
      "<td>network</td>\n",
      "<td><a href=\"/wiki/Verisign\" title=\"Verisign\">Verisign</a></td>\n",
      "<td>This is an open TLD; any person or entity is permitted to register. Originally intended for use by domains pointing to a distributed network of computers, or \"umbrella\" sites that act as the portal to a set of smaller websites.</td>\n",
      "<td class=\"table-yes\" style=\"background:#9F9;vertical-align:middle;text-align:center;\">Yes</td>\n",
      "<td class=\"table-yes\" style=\"background:#9F9;vertical-align:middle;text-align:center;\">Yes</td>\n",
      "<td class=\"table-yes\" style=\"background:#9F9;vertical-align:middle;text-align:center;\">Yes</td>\n",
      "<td class=\"table-yes\" style=\"background:#9F9;vertical-align:middle;text-align:center;\">Yes\n",
      "</td></tr><tr valign=\"top\"><td><a href=\"/wiki/.int\" title=\".int\">.int</a></td>\n",
      "<td>international organizations</td>\n",
      "<td><a href=\"/wiki/Internet_Assigned_Numbers_Authority\" title=\"Internet Assigned Numbers Authority\">Internet Assigned Numbers Authority</a></td>\n",
      "<td>The .int TLD is strictly limited to organizations, offices, and programs endorsed by a treaty between two or more nations. However, a few <a href=\"/wiki/.int#Grandfathered_delegations\" title=\".int\">grandfathered domains</a> do not meet these criteria.</td>\n",
      "<td class=\"table-no\" style=\"background:#F99;vertical-align:middle;text-align:center;\">No</td>\n",
      "<td class=\"table-yes\" style=\"background:#9F9;vertical-align:middle;text-align:center;\">Yes</td>\n",
      "<td class=\"table-yes\" style=\"background:#9F9;vertical-align:middle;text-align:center;\">Yes</td>\n",
      "<td class=\"table-yes\" style=\"background:#9F9;vertical-align:middle;text-align:center;\">Yes\n",
      "</td></tr><tr valign=\"top\"><td><a href=\"/wiki/.edu\" title=\".edu\">.edu</a></td>\n",
      "<td>education</td>\n",
      "<td><a href=\"/wiki/Educause\" title=\"Educause\">Educause</a> (via <a href=\"/wiki/Verisign\" title=\"Verisign\">Verisign</a>)</td>\n",
      "<td>The .edu TLD is limited to specific <a href=\"/wiki/Higher_education\" title=\"Higher education\">higher</a> educational institutions such as, but not limited to, trade schools and universities. In the U.S., its use was restricted in 2001 to post-secondary institutions accredited by an agency on the list of <a class=\"mw-redirect\" href=\"/wiki/Nationally_recognized_accrediting_agencies_in_the_United_States\" title=\"Nationally recognized accrediting agencies in the United States\">nationally recognized accrediting agencies</a>. This domain is therefore almost exclusively used by American colleges and universities. Some institutions, such as the <a href=\"/wiki/Exploratorium\" title=\"Exploratorium\">Exploratorium</a>, that do not meet the current registration criteria have grandfathered domain names.</td>\n",
      "<td class=\"table-no\" style=\"background:#F99;vertical-align:middle;text-align:center;\">No</td>\n",
      "<td class=\"table-yes\" style=\"background:#9F9;vertical-align:middle;text-align:center;\">Yes</td>\n",
      "<td class=\"table-yes\" style=\"background:#9F9;vertical-align:middle;text-align:center;\">Yes</td>\n",
      "<td class=\"table-yes\" style=\"background:#9F9;vertical-align:middle;text-align:center;\">Yes\n",
      "</td></tr><tr valign=\"top\"><td><a href=\"/wiki/.gov\" title=\".gov\">.gov</a></td>\n",
      "<td><a href=\"/wiki/Federal_government_of_the_United_States\" title=\"Federal government of the United States\">U.S. national and state government agencies</a></td>\n",
      "<td><a href=\"/wiki/General_Services_Administration\" title=\"General Services Administration\">General Services Administration</a> (via <a href=\"/wiki/Verisign\" title=\"Verisign\">Verisign</a>)</td>\n",
      "<td>The .gov TLD is limited to United States governmental entities and agencies as well as qualifying state, county and local municipal government agencies.</td>\n",
      "<td class=\"table-no\" style=\"background:#F99;vertical-align:middle;text-align:center;\">No</td>\n",
      "<td class=\"table-yes\" style=\"background:#9F9;vertical-align:middle;text-align:center;\">Yes</td>\n",
      "<td class=\"table-yes\" style=\"background:#9F9;vertical-align:middle;text-align:center;\">Yes</td>\n",
      "<td class=\"table-yes\" style=\"background:#9F9;vertical-align:middle;text-align:center;\">Yes\n",
      "</td></tr><tr valign=\"top\"><td><a href=\"/wiki/.mil\" title=\".mil\">.mil</a></td>\n",
      "<td><a class=\"mw-redirect\" href=\"/wiki/Military_of_the_United_States\" title=\"Military of the United States\">U.S. military</a></td>\n",
      "<td><a href=\"/wiki/United_States_Department_of_Defense\" title=\"United States Department of Defense\">United States Department of Defense</a></td>\n",
      "<td>The .mil TLD is limited to use by the United States military.</td>\n",
      "<td class=\"table-no\" style=\"background:#F99;vertical-align:middle;text-align:center;\">No</td>\n",
      "<td class=\"table-yes\" style=\"background:#9F9;vertical-align:middle;text-align:center;\">Yes</td>\n",
      "<td class=\"table-yes\" style=\"background:#9F9;vertical-align:middle;text-align:center;\">Yes</td>\n",
      "<td class=\"table-yes\" style=\"background:#9F9;vertical-align:middle;text-align:center;\">Yes\n",
      "</td></tr></tbody></table>\n"
     ]
    }
   ],
   "source": [
    "My_table = soup.find('table',{'class':'wikitable sortable'})\n",
    "print(My_table)\n"
   ]
  },
  {
   "cell_type": "code",
   "execution_count": 164,
   "metadata": {},
   "outputs": [
    {
     "name": "stdout",
     "output_type": "stream",
     "text": [
      "[<a href=\"/wiki/Generic_top-level_domain\" title=\"Generic top-level domain\">Name</a>, <a href=\"#cite_note-5\">[5]</a>, <a href=\"/wiki/Internationalized_domain_name\" title=\"Internationalized domain name\">IDN</a>, <a class=\"mw-redirect\" href=\"/wiki/DNSSEC\" title=\"DNSSEC\">DNSSEC</a>, <a href=\"/wiki/Second-level_domain\" title=\"Second-level domain\">SLD</a>, <a href=\"/wiki/IPv6\" title=\"IPv6\">IPv6</a>, <a href=\"/wiki/.com\" title=\".com\">.com</a>, <a href=\"/wiki/Verisign\" title=\"Verisign\">Verisign</a>, <a href=\"/wiki/Wikipedia:Citation_needed\" title=\"Wikipedia:Citation needed\"><span title=\"This claim needs references to reliable sources. (September 2016)\">citation needed</span></a>, <a href=\"/wiki/Cybersquatting\" title=\"Cybersquatting\">squatting</a>, <a href=\"/wiki/United_States_Department_of_Defense\" title=\"United States Department of Defense\">United States Department of Defense</a>, <a href=\"/wiki/.org\" title=\".org\">.org</a>, <a href=\"/wiki/Public_Interest_Registry\" title=\"Public Interest Registry\">Public Interest Registry</a>, <a href=\"/wiki/.net\" title=\".net\">.net</a>, <a href=\"/wiki/Verisign\" title=\"Verisign\">Verisign</a>, <a href=\"/wiki/.int\" title=\".int\">.int</a>, <a href=\"/wiki/Internet_Assigned_Numbers_Authority\" title=\"Internet Assigned Numbers Authority\">Internet Assigned Numbers Authority</a>, <a href=\"/wiki/.int#Grandfathered_delegations\" title=\".int\">grandfathered domains</a>, <a href=\"/wiki/.edu\" title=\".edu\">.edu</a>, <a href=\"/wiki/Educause\" title=\"Educause\">Educause</a>, <a href=\"/wiki/Verisign\" title=\"Verisign\">Verisign</a>, <a href=\"/wiki/Higher_education\" title=\"Higher education\">higher</a>, <a class=\"mw-redirect\" href=\"/wiki/Nationally_recognized_accrediting_agencies_in_the_United_States\" title=\"Nationally recognized accrediting agencies in the United States\">nationally recognized accrediting agencies</a>, <a href=\"/wiki/Exploratorium\" title=\"Exploratorium\">Exploratorium</a>, <a href=\"/wiki/.gov\" title=\".gov\">.gov</a>, <a href=\"/wiki/Federal_government_of_the_United_States\" title=\"Federal government of the United States\">U.S. national and state government agencies</a>, <a href=\"/wiki/General_Services_Administration\" title=\"General Services Administration\">General Services Administration</a>, <a href=\"/wiki/Verisign\" title=\"Verisign\">Verisign</a>, <a href=\"/wiki/.mil\" title=\".mil\">.mil</a>, <a class=\"mw-redirect\" href=\"/wiki/Military_of_the_United_States\" title=\"Military of the United States\">U.S. military</a>, <a href=\"/wiki/United_States_Department_of_Defense\" title=\"United States Department of Defense\">United States Department of Defense</a>]\n"
     ]
    }
   ],
   "source": [
    "links = My_table.find_all('a')\n",
    "print(links)"
   ]
  },
  {
   "cell_type": "code",
   "execution_count": 165,
   "metadata": {},
   "outputs": [
    {
     "name": "stdout",
     "output_type": "stream",
     "text": [
      "['Generic top-level domain', None, 'Internationalized domain name', 'DNSSEC', 'Second-level domain', 'IPv6', '.com', 'Verisign', 'Wikipedia:Citation needed', 'Cybersquatting', 'United States Department of Defense', '.org', 'Public Interest Registry', '.net', 'Verisign', '.int', 'Internet Assigned Numbers Authority', '.int', '.edu', 'Educause', 'Verisign', 'Higher education', 'Nationally recognized accrediting agencies in the United States', 'Exploratorium', '.gov', 'Federal government of the United States', 'General Services Administration', 'Verisign', '.mil', 'Military of the United States', 'United States Department of Defense']\n"
     ]
    },
    {
     "data": {
      "text/plain": [
       "list"
      ]
     },
     "execution_count": 165,
     "metadata": {},
     "output_type": "execute_result"
    }
   ],
   "source": [
    "domains = []\n",
    "for link in links:\n",
    "    domains.append(link.get('title'))\n",
    "print(domains)\n",
    "type(domains)"
   ]
  },
  {
   "cell_type": "code",
   "execution_count": 166,
   "metadata": {},
   "outputs": [
    {
     "name": "stdout",
     "output_type": "stream",
     "text": [
      "['.com', '.org', '.net', '.int', '.int', '.edu', '.gov', '.mil']\n"
     ]
    }
   ],
   "source": [
    "#Use regular expression\n",
    "df=str(domains)\n",
    "r1 = re.findall(r'\\.+[a-z,A-Z]+',df)\n",
    "print(r1)"
   ]
  },
  {
   "cell_type": "code",
   "execution_count": 167,
   "metadata": {},
   "outputs": [
    {
     "name": "stdout",
     "output_type": "stream",
     "text": [
      "['.com' '.edu' '.gov' '.int' '.mil' '.net' '.org']\n"
     ]
    }
   ],
   "source": [
    "import numpy as np\n",
    "arr=np.array(r1)\n",
    "finaldomains = np.unique(arr)\n",
    "print(finaldomains)"
   ]
  },
  {
   "cell_type": "code",
   "execution_count": 168,
   "metadata": {},
   "outputs": [
    {
     "name": "stdout",
     "output_type": "stream",
     "text": [
      "https://example.com\n",
      "https://example.edu\n",
      "https://example.gov\n",
      "https://example.int\n",
      "https://example.mil\n",
      "https://example.net\n",
      "https://example.org\n"
     ]
    }
   ],
   "source": [
    "\n",
    "secondleveldomainlinks=[]\n",
    "for a in finaldomains: \n",
    "    final = \"https\"+\":\"+\"//\"+\"example\" + a\n",
    "    print(final)\n",
    "    secondleveldomainlinks.append(final)"
   ]
  },
  {
   "cell_type": "code",
   "execution_count": 169,
   "metadata": {},
   "outputs": [
    {
     "name": "stdout",
     "output_type": "stream",
     "text": [
      "['https://example.com', 'https://example.edu', 'https://example.gov', 'https://example.int', 'https://example.mil', 'https://example.net', 'https://example.org']\n"
     ]
    }
   ],
   "source": [
    "print(secondleveldomainlinks)\n"
   ]
  },
  {
   "cell_type": "code",
   "execution_count": 170,
   "metadata": {},
   "outputs": [],
   "source": [
    "#Use the Requests package to check whether the \"example\" second-level domain is valid for each of the top-level domains you extracted.\n",
    "finalresult = []\n",
    "for k in range(len(secondleveldomainlinks)):\n",
    "    try:\n",
    "        \n",
    "        response = requests.get(secondleveldomainlinks[k])\n",
    "        finalresult.append(str(response.status_code) +\" is the response code for \" + str(secondleveldomainlinks[k]))\n",
    "    except requests.exceptions.RequestException as e:  # This is the correct syntax\n",
    "         finalresult.append(\"failed to connect to the link \" + str(secondleveldomainlinks[k]))"
   ]
  },
  {
   "cell_type": "code",
   "execution_count": 171,
   "metadata": {},
   "outputs": [
    {
     "name": "stdout",
     "output_type": "stream",
     "text": [
      "['200 is the response code for https://example.com', '200 is the response code for https://example.edu', 'failed to connect to the link https://example.gov', 'failed to connect to the link https://example.int', 'failed to connect to the link https://example.mil', '200 is the response code for https://example.net', '200 is the response code for https://example.org']\n"
     ]
    }
   ],
   "source": [
    "print(finalresult)"
   ]
  },
  {
   "cell_type": "code",
   "execution_count": 172,
   "metadata": {},
   "outputs": [],
   "source": [
    "#Write a CSV file\n",
    "import csv\n",
    "with open(\"Result_Assignment2.csv\",\"w\")as csvfile:\n",
    "    thefile = csv.writer(csvfile)\n",
    "    thefile.writerow(finalresult)"
   ]
  },
  {
   "cell_type": "code",
   "execution_count": null,
   "metadata": {},
   "outputs": [],
   "source": []
  }
 ],
 "metadata": {
  "kernelspec": {
   "display_name": "Python 3",
   "language": "python",
   "name": "python3"
  },
  "language_info": {
   "codemirror_mode": {
    "name": "ipython",
    "version": 3
   },
   "file_extension": ".py",
   "mimetype": "text/x-python",
   "name": "python",
   "nbconvert_exporter": "python",
   "pygments_lexer": "ipython3",
   "version": "3.7.4"
  }
 },
 "nbformat": 4,
 "nbformat_minor": 2
}
